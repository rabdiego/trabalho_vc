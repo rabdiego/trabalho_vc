{
 "cells": [
  {
   "cell_type": "code",
   "execution_count": 1,
   "id": "38de1dfc",
   "metadata": {},
   "outputs": [],
   "source": [
    "import os\n",
    "import pandas as pd\n",
    "import numpy as np\n",
    "import cv2\n",
    "from tqdm import tqdm\n",
    "from visao.ImageVectorizer import ImageVectorizer\n",
    "from visao.ImageLoader import ImageLoader"
   ]
  },
  {
   "cell_type": "code",
   "execution_count": 2,
   "id": "d632262b",
   "metadata": {},
   "outputs": [],
   "source": [
    "loader = ImageLoader()\n",
    "vec = ImageVectorizer()"
   ]
  },
  {
   "cell_type": "code",
   "execution_count": 3,
   "id": "af3f483d",
   "metadata": {},
   "outputs": [],
   "source": [
    "classes = os.listdir('../data/')"
   ]
  },
  {
   "cell_type": "code",
   "execution_count": 4,
   "id": "d85a56ed",
   "metadata": {},
   "outputs": [],
   "source": [
    "data = []"
   ]
  },
  {
   "cell_type": "code",
   "execution_count": 5,
   "id": "d2a4ad37",
   "metadata": {},
   "outputs": [
    {
     "name": "stderr",
     "output_type": "stream",
     "text": [
      "100%|██████████| 800/800 [00:21<00:00, 36.79it/s]\n"
     ]
    }
   ],
   "source": [
    "good_path = '../data/good/'\n",
    "for img_path in tqdm(os.listdir(good_path)):\n",
    "    img = loader.load(os.path.join(good_path, img_path))\n",
    "    img_vec = vec(img)\n",
    "    data.append({\n",
    "        'filename': img_path,\n",
    "        'contrast_score': img_vec[0],\n",
    "        'sharpness_score': img_vec[1],\n",
    "        'noise_score': img_vec[2],\n",
    "        'class': 'good',\n",
    "        'y': 1\n",
    "    })"
   ]
  },
  {
   "cell_type": "code",
   "execution_count": 6,
   "id": "eadeb82e",
   "metadata": {},
   "outputs": [
    {
     "name": "stderr",
     "output_type": "stream",
     "text": [
      "100%|██████████| 280/280 [00:07<00:00, 35.13it/s]\n"
     ]
    }
   ],
   "source": [
    "low_contrast_path = '../data/low_contrast/'\n",
    "for img_path in tqdm(os.listdir(low_contrast_path)):\n",
    "    img = loader.load(os.path.join(low_contrast_path, img_path))\n",
    "    img = cv2.resize(img, (512, 512))\n",
    "    img_vec = vec(img)\n",
    "    data.append({\n",
    "        'filename': img_path,\n",
    "        'contrast_score': img_vec[0],\n",
    "        'sharpness_score': img_vec[1],\n",
    "        'noise_score': img_vec[2],\n",
    "        'class': 'low_contrast',\n",
    "        'y': 0\n",
    "    })"
   ]
  },
  {
   "cell_type": "code",
   "execution_count": 7,
   "id": "86967322",
   "metadata": {},
   "outputs": [
    {
     "name": "stderr",
     "output_type": "stream",
     "text": [
      "100%|██████████| 260/260 [00:11<00:00, 22.29it/s]\n"
     ]
    }
   ],
   "source": [
    "blurry_path = '../data/blurry/'\n",
    "for img_path in tqdm(os.listdir(blurry_path)):\n",
    "    img = loader.load(os.path.join(blurry_path, img_path))\n",
    "    img = cv2.resize(img, (512, 512))\n",
    "    img_vec = vec(img)\n",
    "    data.append({\n",
    "        'filename': img_path,\n",
    "        'contrast_score': img_vec[0],\n",
    "        'sharpness_score': img_vec[1],\n",
    "        'noise_score': img_vec[2],\n",
    "        'class': 'blurry',\n",
    "        'y': 0\n",
    "    })"
   ]
  },
  {
   "cell_type": "code",
   "execution_count": 8,
   "id": "cf548306",
   "metadata": {},
   "outputs": [
    {
     "name": "stderr",
     "output_type": "stream",
     "text": [
      "100%|██████████| 260/260 [00:05<00:00, 44.87it/s]\n"
     ]
    }
   ],
   "source": [
    "noisy_path = '../data/noisy/'\n",
    "for img_path in tqdm(os.listdir(noisy_path)):\n",
    "    img = loader.load(os.path.join(noisy_path, img_path))\n",
    "    img = cv2.resize(img, (512, 512))\n",
    "    img_vec = vec(img)\n",
    "    data.append({\n",
    "        'filename': img_path,\n",
    "        'contrast_score': img_vec[0],\n",
    "        'sharpness_score': img_vec[1],\n",
    "        'noise_score': img_vec[2],\n",
    "        'class': 'noisy',\n",
    "        'y': 0\n",
    "    })"
   ]
  },
  {
   "cell_type": "code",
   "execution_count": 9,
   "id": "0f378b0e",
   "metadata": {},
   "outputs": [],
   "source": [
    "df = pd.DataFrame(data)"
   ]
  },
  {
   "cell_type": "code",
   "execution_count": 10,
   "id": "43f6f72e",
   "metadata": {},
   "outputs": [],
   "source": [
    "df.to_csv('data.csv')"
   ]
  },
  {
   "cell_type": "code",
   "execution_count": null,
   "id": "225800a3",
   "metadata": {},
   "outputs": [],
   "source": []
  }
 ],
 "metadata": {
  "kernelspec": {
   "display_name": "visao",
   "language": "python",
   "name": "python3"
  },
  "language_info": {
   "codemirror_mode": {
    "name": "ipython",
    "version": 3
   },
   "file_extension": ".py",
   "mimetype": "text/x-python",
   "name": "python",
   "nbconvert_exporter": "python",
   "pygments_lexer": "ipython3",
   "version": "3.10.18"
  }
 },
 "nbformat": 4,
 "nbformat_minor": 5
}
